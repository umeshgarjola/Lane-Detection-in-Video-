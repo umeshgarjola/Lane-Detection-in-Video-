{
 "cells": [
  {
   "cell_type": "code",
   "execution_count": 15,
   "id": "1bda09fb",
   "metadata": {},
   "outputs": [],
   "source": [
    "#1.comncert in gray image\n",
    "#2.detect edge using canny edge detector\n",
    "#3.mask image reqired area\n",
    "#4.get line useng hough transform \n",
    "#5.make black image and draw line on black image\n",
    "#6.combine both image using addweighted"
   ]
  },
  {
   "cell_type": "code",
   "execution_count": 16,
   "id": "1bbf3f6d",
   "metadata": {},
   "outputs": [],
   "source": [
    "import cv2\n",
    "import numpy as np"
   ]
  },
  {
   "cell_type": "code",
   "execution_count": 18,
   "id": "a25ea4f0",
   "metadata": {},
   "outputs": [],
   "source": [
    "def region_of_interest(image, region_points):\n",
    "    # we are going to replace pixels with 0 (black) - the regions we are not interested\n",
    "    mask = np.zeros_like(image)\n",
    "    # the region that we are interested in is the lower triangle - 255 white pixels\n",
    "    cv2.fillPoly(mask, region_points, 255)\n",
    "    # we have to use the mask: we want to keep the regions of the original image where\n",
    "    # the mask has white colored pixels\n",
    "    masked_image = cv2.bitwise_and(image, mask)\n",
    "    return masked_image"
   ]
  },
  {
   "cell_type": "code",
   "execution_count": 19,
   "id": "24fd6349",
   "metadata": {},
   "outputs": [],
   "source": [
    "def get_detected_lanes(image):\n",
    "    (height, width) = (image.shape[0], image.shape[1])\n",
    "\n",
    "    # we have to turn the image into grayscale\n",
    "    gray_image = cv2.cvtColor(image, cv2.COLOR_BGR2GRAY)\n",
    "\n",
    "    # edge detection kernel (Canny's algorithm)\n",
    "    canny_image = cv2.Canny(gray_image, 100, 120)\n",
    "\n",
    "    # we are interested in the \"lower region\" of the image (there are the driving lanes)\n",
    "    region_of_interest_vertices = [\n",
    "        (0, height),\n",
    "        (width / 2, height * 0.65),\n",
    "        (width, height)\n",
    "    ]\n",
    "\n",
    "    # we can get rid of the un-relevant part of the image\n",
    "    # we just keep the lower triangle region\n",
    "    cropped_image = region_of_interest(canny_image, np.array([region_of_interest_vertices], np.int32))\n",
    "\n",
    "    # use the line detection algorithm (radians instead of degrees 1 degree = pi / 180)\n",
    "    lines = cv2.HoughLinesP(cropped_image, rho=2, theta=np.pi / 180, threshold=50, lines=np.array([]),\n",
    "                            minLineLength=40, maxLineGap=150)\n",
    "\n",
    "    # draw the lines on the image\n",
    "    image_with_lines = draw_the_lines(image, lines)\n",
    "\n",
    "    return image_with_lines"
   ]
  },
  {
   "cell_type": "code",
   "execution_count": 17,
   "id": "b5e6681f",
   "metadata": {},
   "outputs": [],
   "source": [
    "def draw_the_lines(image, lines):\n",
    "    # create a distinct image for the lines [0,255] - all 0 values means black image\n",
    "    lines_image = np.zeros((image.shape[0], image.shape[1], 3), dtype=np.uint8)\n",
    "\n",
    "    # there are (x,y) for the starting and end points of the lines\n",
    "    for line in lines:\n",
    "        for x1, y1, x2, y2 in line:\n",
    "            cv2.line(lines_image, (x1, y1), (x2, y2), (0, 0, 255), thickness=3)\n",
    "\n",
    "    # finally we have to merge the image with the lines\n",
    "    image_with_lines = cv2.addWeighted(image, 0.8, lines_image, 1, 0.0)\n",
    "\n",
    "    return image_with_lines"
   ]
  },
  {
   "cell_type": "code",
   "execution_count": 20,
   "id": "d70e68a8",
   "metadata": {},
   "outputs": [],
   "source": [
    "# video = several frames (images shown after each other)\n",
    "video = cv2.VideoCapture('D:lane_detection_video.mp4')\n",
    "\n",
    "while video.isOpened():\n",
    "\n",
    "    is_grabbed, frame = video.read()\n",
    "\n",
    "    # because the end of the video\n",
    "    if not is_grabbed:\n",
    "        break\n",
    " \n",
    "    frame = get_detected_lanes(frame)\n",
    "\n",
    "    cv2.imshow('Lane Detection Video', frame)\n",
    "    cv2.waitKey(20)\n",
    "\n",
    "video.release()\n",
    "cv2.destroyAllWindows()\n"
   ]
  }
 ],
 "metadata": {
  "kernelspec": {
   "display_name": "Python 3",
   "language": "python",
   "name": "python3"
  },
  "language_info": {
   "codemirror_mode": {
    "name": "ipython",
    "version": 3
   },
   "file_extension": ".py",
   "mimetype": "text/x-python",
   "name": "python",
   "nbconvert_exporter": "python",
   "pygments_lexer": "ipython3",
   "version": "3.8.8"
  }
 },
 "nbformat": 4,
 "nbformat_minor": 5
}
